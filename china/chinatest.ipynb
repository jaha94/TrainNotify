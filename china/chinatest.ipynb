{
 "cells": [
  {
   "cell_type": "code",
   "execution_count": 26,
   "metadata": {
    "collapsed": true,
    "pycharm": {
     "name": "#%%\n"
    }
   },
   "outputs": [
    {
     "name": "stdout",
     "output_type": "stream",
     "text": [
      "{'ТОПMatiz arendaga beriladi.4 700 у.е.Ташкент, Яшнабадский район - Сегодня в 02:332009  - 250 000 кмПодписаться': 'https://www.olx.uz/d/obyavlenie/matiz-arendaga-beriladi-ID3bm2F.html', 'ТОПArenda Matiz nasiya4 700 у.е.ДоговорнаяТашкент, Чиланзарский район - Сегодня в 17:142008  - 203 000 кмПодписаться': 'https://www.olx.uz/d/obyavlenie/arenda-matiz-nasiya-ID39VGb.html', 'ТОПМатиз срочна 2010 мх Кондёр бор4 200 у.е.ДоговорнаяТашкент, Юнусабадский район - Сегодня в 10:562010  - 351 000 кмПодписаться': 'https://www.olx.uz/d/obyavlenie/matiz-srochna-2010-mh-konder-bor-ID3aa5a.html', 'Matiz Best Матиз бест3 500 у.е.ДоговорнаяТашкент, Мирзо-Улугбекский район - Сегодня в 10:082009  - 360 000 кмПодписаться': 'https://www.olx.uz/d/obyavlenie/matiz-best-matiz-best-ID3bqsh.html', 'Matiz 2015 sotiladi5 600 у.е.Ташкент, Чиланзарский район - 07 марта 2023 г.2015  - 280 000 кмПодписаться': 'https://www.olx.uz/d/obyavlenie/matiz-2015-sotiladi-ID3aZZo.html', 'Matiz best 2011 bezrasxod3 750 у.е.Ташкент, Бектемирский район - Сегодня в 09:352011  - 400 000 кмПодписаться': 'https://www.olx.uz/d/obyavlenie/matiz-best-2011-bezrasxod-ID3bqg4.html', 'Chevrolet Matiz 20093 400 у.е.Ташкент, Юнусабадский район - 08 марта 2023 г.2009  - 101 500 кмПодписаться': 'https://www.olx.uz/d/obyavlenie/chevrolet-matiz-2009-ID3b4Fu.html', 'Matiz Best sotiladi3 850 у.е.Ташкент, Юнусабадский район - Сегодня в 03:352009  - 300 000 кмПодписаться': 'https://www.olx.uz/d/obyavlenie/matiz-best-sotiladi-ID3bokO.html', 'Matiz arenda sastayana idial 2016 yil5 000 у.е.ДоговорнаяТашкент, Мирабадский район - Сегодня в 11:392016  - 138 000 кмПодписаться': 'https://www.olx.uz/d/obyavlenie/matiz-arenda-sastayana-idial-2016-yil-ID3bqX9.html', 'Matiz Best Chevrolet3 500 у.е.Бухара - 13 февраля 2023 г.2010  - 180 кмПодписаться': 'https://www.olx.uz/d/obyavlenie/matiz-best-chevrolet-ID395sb.html', 'Matiz Euro metan gaz3 350 у.е.Ташкент, Юнусабадский район - Сегодня в 05:062009  - 213 000 кмПодписаться': 'https://www.olx.uz/d/obyavlenie/matiz-euro-metan-gaz-ID3boC0.html', 'Matiz best matanda arenda vikupka3 800 у.е.Ташкент, Юнусабадский район - Сегодня в 09:112009  - 320 000 кмПодписаться': 'https://www.olx.uz/d/obyavlenie/matiz-best-matanda-arenda-vikupka-ID3bq69.html', 'Matiz sotiladi.  Vikubgayam beriladi.4 000 у.е.ДоговорнаяЖондор - 12 марта 2023 г.2010  - 1 кмПодписаться': 'https://www.olx.uz/d/obyavlenie/matiz-sotiladi-vikubgayam-beriladi-ID3bjWr.html', 'ТОПMatiz Srochniy sotiladi5 100 у.е.ДоговорнаяТашкент, Юнусабадский район - Сегодня в 09:152014  - 130 000 кмПодписаться': 'https://www.olx.uz/d/obyavlenie/matiz-srochniy-sotiladi-ID3bhFs.html', 'ТОПChevrolet matiz 2010 yil4 500 у.е.ДоговорнаяБухара - Сегодня в 11:222010  - 116 500 кмПодписаться': 'https://www.olx.uz/d/obyavlenie/chevrolet-matiz-2010-yil-ID3aQGo.html', 'ТОПMatiz Qora Evro variant4 200 у.е.ДоговорнаяТашкент, Чиланзарский район - 12 марта 2023 г.2010  - 204 000 кмПодписаться': 'https://www.olx.uz/d/obyavlenie/matiz-qora-evro-variant-ID3bjTR.html', 'Arenda 2014.matiz mux4 700 у.е.Назарбек - 10 марта 2023 г.2014  - 241 кмПодписаться': 'https://www.olx.uz/d/obyavlenie/arenda-2014-matiz-mux-ID3bcB7.html', 'Pradayotsa matiz best4 200 у.е.ДоговорнаяТашкент, Сергелийский район - 12 марта 2023 г.2010  - 271 000 кмПодписаться': 'https://www.olx.uz/d/obyavlenie/pradayotsa-matiz-best-ID3blur.html', 'Matiz MX sotiladi3 700 у.е.ДоговорнаяТашкент, Учтепинский район - 12 марта 2023 г.2010  - 340 000 кмПодписаться': 'https://www.olx.uz/d/obyavlenie/matiz-mx-sotiladi-ID3blPO.html', 'Matiz mx 2006 metan gazi bor3 100 у.е.Келес - Сегодня в 06:412006  - 570 000 кмПодписаться': 'https://www.olx.uz/d/obyavlenie/matiz-mx-2006-metan-gazi-bor-ID3bpea.html', 'Продаётся недорого Matiz-2009год. Супер. 2-поз.3 300 у.е.ДоговорнаяТашкент, Учтепинский район - Сегодня в 08:232009  - 200 000 кмПодписаться': 'https://www.olx.uz/d/obyavlenie/prodaetsya-nedorogo-matiz-2009god-super-2-poz-ID38pSK.html', 'Matiz 2009 metan gaz3 450 у.е.Ташкент, Юнусабадский район - Сегодня в 04:452009  - 263 000 кмПодписаться': 'https://www.olx.uz/d/obyavlenie/matiz-2009-metan-gaz-ID3bozR.html', 'Matiz 2017-йил, простой5 300 у.е.Ташкент, Алмазарский район - Сегодня в 04:192017  - 80 000 кмПодписаться': 'https://www.olx.uz/d/obyavlenie/matiz-2017-yil-prostoy-ID3botj.html', 'Matiz mator xadavoy zor vikupka3 200 у.е.Ташкент, Алмазарский район - Сегодня в 16:172009  - 350 000 кмПодписаться': 'https://www.olx.uz/d/obyavlenie/matiz-mator-xadavoy-zor-vikupka-ID3bnIf.html', 'Matiz tamir talab1 600 у.е.Нурата - Сегодня в 09:422009  - 5 кмПодписаться': 'https://www.olx.uz/d/obyavlenie/matiz-tamir-talab-ID3bqiY.html', 'Matiz 2009 super kandisaner sotiladi3 200 у.е.ДоговорнаяТашкент, Яшнабадский район - Сегодня в 16:152009  - 1 111 кмПодписаться': 'https://www.olx.uz/d/obyavlenie/matiz-2009-super-kandisaner-sotiladi-ID3bscW.html', 'ТОПMatiz Best 2009 yil metan arenda4 300 у.е.Ташкент, Юнусабадский район - 12 марта 2023 г.2009  - 460 000 кмПодписаться': 'https://www.olx.uz/d/obyavlenie/matiz-best-2009-yil-metan-arenda-ID39XL9.html', 'ТОПMatiz Mx 2015 supper kandior6 100 у.е.ДоговорнаяТашкент, Чиланзарский район - 12 марта 2023 г.2015  - 96 000 кмПодписаться': 'https://www.olx.uz/d/obyavlenie/matiz-mx-2015-supper-kandior-ID3aABV.html', 'ТОПARENDA Vikup Matiz Best 2012-yil kraska toza4 800 у.е.Коксарай - 12 марта 2023 г.2012  - 350 000 кмПодписаться': 'https://www.olx.uz/d/obyavlenie/arenda-vikup-matiz-best-2012-yil-kraska-toza-ID3b47T.html', 'Matiz Best 2012 год4 600 у.е.Ташкент, Сергелийский район - 12 марта 2023 г.2012  - 220 000 кмПодписаться': 'https://www.olx.uz/d/obyavlenie/matiz-best-2012-god-ID3bkz7.html', 'Matiz sotladi vikpga toshkenga3 000 у.е.Уртааул - Сегодня в 09:422008 Подписаться': 'https://www.olx.uz/d/obyavlenie/matiz-sotladi-vikpga-toshkenga-ID3boHF.html', 'Matiz Salom alekum sirojna sotiladi4 500 у.е.Ташкент, Сергелийский район - Сегодня в 15:182011  - 270 000 кмПодписаться': 'https://www.olx.uz/d/obyavlenie/matiz-salom-alekum-sirojna-sotiladi-ID3brWT.html', 'Matiz Best 2010 holati zor4 399 у.е.ДоговорнаяТашкент, Алмазарский район - 12 марта 2023 г.2010  - 122 630 кмПодписаться': 'https://www.olx.uz/d/obyavlenie/matiz-best-2010-holati-zor-ID3bndN.html', 'Chevrolet Matiz 2010 yili probeh 118k4 200 у.е.Ташкент, Яккасарайский район - Сегодня в 09:502010  - 118 000 кмПодписаться': 'https://www.olx.uz/d/obyavlenie/chevrolet-matiz-2010-yili-probeh-118k-ID3bqlA.html', 'Matiz mx super kondisioner Arenda vikupga gazi bor3 300 у.е.ДоговорнаяТашкент, Алмазарский район - Сегодня в 17:252005  - 600 кмПодписаться': 'https://www.olx.uz/d/obyavlenie/matiz-mx-super-kondisioner-arenda-vikupga-gazi-bor-ID3bgoG.html', 'Matiz Best 2010       .4 500 у.е.Эшангузар - 07 марта 2023 г.2010  - 240 000 кмПодписаться': 'https://www.olx.uz/d/obyavlenie/matiz-best-2010-ID3aZQJ.html', 'Matiz best 2010 yil metan gaz3 900 у.е.ДоговорнаяТашкент, Юнусабадский район - 12 марта 2023 г.2010  - 280 000 кмПодписаться': 'https://www.olx.uz/d/obyavlenie/matiz-best-2010-yil-metan-gaz-ID3b3Uh.html', 'Matiz holati yaxshi . Mator yaxshi . Srochna pul kerak .3 000 у.е.Самарканд - Сегодня в 07:392006  - 400 000 кмПодписаться': 'https://www.olx.uz/d/obyavlenie/matiz-holati-yaxshi-mator-yaxshi-srochna-pul-kerak-ID3bpDO.html', 'Matiz sotilad xolati zur3 150 у.е.Карши - 12 марта 2023 г.2003  - 350 кмПодписаться': 'https://www.olx.uz/d/obyavlenie/matiz-sotilad-xolati-zur-ID3bo1O.html', 'ТОПMatiz mx 2009 yil4 200 у.е.ДоговорнаяТашкент, Алмазарский район - Сегодня в 06:292009  - 157 кмПодписаться': 'https://www.olx.uz/d/obyavlenie/matiz-mx-2009-yil-ID3bp5X.html', 'ТОПМатиз бест 2018г6 400 у.е.ДоговорнаяМирабад - Сегодня в 10:532018  - 143 000 кмПодписаться': 'https://www.olx.uz/d/obyavlenie/matiz-best-2018g-ID3bqH0.html', 'ТОПСвой Матиз МХ Uzimiki Matiz 2016г.5 300 у.е.Ташкент, Сергелийский район - 12 марта 2023 г.2016  - 268 000 кмПодписаться': 'https://www.olx.uz/d/obyavlenie/svoy-matiz-mh-uzimiki-matiz-2016g-ID39jd7.html', 'Matiz Best chevrolet4 800 у.е.Ташкент, Сергелийский район - 06 марта 2023 г.2015  - 280 000 кмПодписаться': 'https://www.olx.uz/d/obyavlenie/matiz-best-chevrolet-ID3aUjk.html', 'Matiz 2014 sotiladi4 900 у.е.ДоговорнаяТашкент, Мирзо-Улугбекский район - Сегодня в 16:232014  - 157 000 кмПодписаться': 'https://www.olx.uz/d/obyavlenie/matiz-2014-sotiladi-ID3bsgm.html', 'Matiz.        .    .3 300 у.е.Гиждуван - 23 февраля 2023 г.2009  - 151 000 кмПодписаться': 'https://www.olx.uz/d/obyavlenie/matiz-ID3a2wL.html', 'Matiz best sotiladi sirochna4 100 у.е.Ташкент, Учтепинский район - 11 марта 2023 г.2010  - 345 000 кмПодписаться': 'https://www.olx.uz/d/obyavlenie/matiz-best-sotiladi-sirochna-ID3biZx.html', 'Matiz sotiladi 20114 900 у.е.Самарканд - 04 марта 2023 г.2011  - 48 000 кмПодписаться': 'https://www.olx.uz/d/obyavlenie/matiz-sotiladi-2011-ID38iZa.html', 'Matiz best sotilad 1.2y.e1 200 у.е.Мирабад - Сегодня в 16:262011  - 134 678 кмПодписаться': 'https://www.olx.uz/d/obyavlenie/matiz-best-sotilad-1-2y-e-ID3bsgw.html', 'Matiz best 2015 holati yaxshi4 800 у.е.ДоговорнаяЭшангузар - Сегодня в 06:112015  - 221 000 кмПодписаться': 'https://www.olx.uz/d/obyavlenie/matiz-best-2015-holati-yaxshi-ID3bp04.html', 'Matiz mix srochna4 500 у.е.Ташкент, Сергелийский район - Сегодня в 12:362009  - 230 кмПодписаться': 'https://www.olx.uz/d/obyavlenie/matiz-mix-srochna-ID3brgu.html', 'Chevrolet matiz sotiladi5 300 у.е.ДоговорнаяТашкент, Юнусабадский район - Сегодня в 09:002015  - 145 000 кмПодписаться': 'https://www.olx.uz/d/obyavlenie/chevrolet-matiz-sotiladi-ID3bpZ9.html', 'Matiz best sotiladi6 100 у.е.Ташкент, Алмазарский район - Сегодня в 09:172013  - 118 000 кмПодписаться': 'https://www.olx.uz/d/obyavlenie/matiz-best-sotiladi-ID3bq9G.html'}\n"
     ]
    }
   ],
   "source": [
    "import requests\n",
    "from bs4 import BeautifulSoup\n",
    "import json\n",
    "\n",
    "# url = 'https://www.olx.uz/d/transport/legkovye-avtomobili/q-matiz/?currency=UYE'\n",
    "#\n",
    "headers = {\"Accept\": \"*/*\",\n",
    "           \"User-Agent\": \"Mozilla/5.0 (Windows NT 10.0; Win64; x64) AppleWebKit/537.36 (KHTML, like Gecko) Chrome/110.0.0.0 Safari/537.36\"}\n",
    "\n",
    "# req = requests.get(url, headers=headers)\n",
    "# src = req.text\n",
    "#\n",
    "# with open(\"index.html\", \"w\", encoding=\"utf-8\") as file:\n",
    "#     file.write(src)\n",
    "#\n",
    "#\n",
    "# soup = BeautifulSoup(src, \"lxml\")\n",
    "# print(soup)\n",
    "\n",
    "# with open(\"index.html\", encoding=\"utf-8\") as file:\n",
    "#     src = file.read()\n",
    "#\n",
    "# soup = BeautifulSoup(src, \"lxml\", )\n",
    "#\n",
    "# all_href = soup.find_all(class_=\"css-rc5s2u\")\n",
    "# all_car_dict = {}\n",
    "# for item in all_href:\n",
    "#     item_text = item.text\n",
    "#     item_href = \"https://www.olx.uz\" + item.get(\"href\")\n",
    "#     print(f\"{item_text}: {item_href}\")\n",
    "#     all_car_dict[item_text] = item_href\n",
    "#\n",
    "# with open(\"all_car_dict.json\", \"w\", encoding=\"utf-8\") as file:\n",
    "#     json.dump(all_car_dict, file, indent=4, ensure_ascii=False)\n",
    "\n",
    "with open(\"all_car_dict.json\", encoding=\"utf-8\") as file:\n",
    "    all_cars = json.load(file)\n",
    "print(all_cars)\n",
    "#\n",
    "# for car_name, car_href in all_cars.items():\n",
    "#     rep = [' ', ',', '.', '-']\n",
    "#     for item in rep:\n",
    "#         if item in car_name:\n",
    "#             car_name = car_name.replace(item, \"_\")\n",
    "#     print(car_name)\n",
    "\n",
    "req = requests.get(url=)"
   ]
  }
 ],
 "metadata": {
  "kernelspec": {
   "display_name": "Python 3",
   "language": "python",
   "name": "python3"
  },
  "language_info": {
   "codemirror_mode": {
    "name": "ipython",
    "version": 2
   },
   "file_extension": ".py",
   "mimetype": "text/x-python",
   "name": "python",
   "nbconvert_exporter": "python",
   "pygments_lexer": "ipython2",
   "version": "2.7.6"
  }
 },
 "nbformat": 4,
 "nbformat_minor": 0
}