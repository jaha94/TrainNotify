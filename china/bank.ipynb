{
 "cells": [
  {
   "cell_type": "code",
   "execution_count": 5,
   "metadata": {
    "collapsed": true,
    "pycharm": {
     "name": "#%%\n"
    }
   },
   "outputs": [
    {
     "name": "stdout",
     "output_type": "stream",
     "text": [
      "2023-03-17\n"
     ]
    },
    {
     "ename": "ElementClickInterceptedException",
     "evalue": "Message: element click intercepted: Element <label class=\"control-label\" for=\"export-account_list\">...</label> is not clickable at point (930, 203). Other element would receive the click: <th colspan=\"5\" class=\"datepicker-switch\">...</th>\n  (Session info: chrome=111.0.5563.65)\nStacktrace:\nBacktrace:\n\t(No symbol) [0x0111DCE3]\n\t(No symbol) [0x010B39D1]\n\t(No symbol) [0x00FC4DA8]\n\t(No symbol) [0x00FF52EA]\n\t(No symbol) [0x00FF3BBA]\n\t(No symbol) [0x00FF1EFB]\n\t(No symbol) [0x00FF1027]\n\t(No symbol) [0x00FE8D05]\n\t(No symbol) [0x0100AECC]\n\t(No symbol) [0x00FE8726]\n\t(No symbol) [0x0100B224]\n\t(No symbol) [0x0101D57C]\n\t(No symbol) [0x0100ACC6]\n\t(No symbol) [0x00FE6F68]\n\t(No symbol) [0x00FE80CD]\n\tGetHandleVerifier [0x01393832+2506274]\n\tGetHandleVerifier [0x013C9794+2727300]\n\tGetHandleVerifier [0x013CE36C+2746716]\n\tGetHandleVerifier [0x011C6690+617600]\n\t(No symbol) [0x010BC712]\n\t(No symbol) [0x010C1FF8]\n\t(No symbol) [0x010C20DB]\n\t(No symbol) [0x010CC63B]\n\tBaseThreadInitThunk [0x75A6FEF9+25]\n\tRtlGetAppContainerNamedObjectPath [0x77407BBE+286]\n\tRtlGetAppContainerNamedObjectPath [0x77407B8E+238]\n",
     "output_type": "error",
     "traceback": [
      "\u001B[1;31m---------------------------------------------------------------------------\u001B[0m",
      "\u001B[1;31mElementClickInterceptedException\u001B[0m          Traceback (most recent call last)",
      "Cell \u001B[1;32mIn[5], line 57\u001B[0m\n\u001B[0;32m     55\u001B[0m \u001B[38;5;66;03m# driver.find_element(By.ID, \"export-file_format\").click()\u001B[39;00m\n\u001B[0;32m     56\u001B[0m xpath(\u001B[38;5;124m\"\u001B[39m\u001B[38;5;124m//option[@value=\u001B[39m\u001B[38;5;124m'\u001B[39m\u001B[38;5;124mtxt3\u001B[39m\u001B[38;5;124m'\u001B[39m\u001B[38;5;124m]\u001B[39m\u001B[38;5;124m\"\u001B[39m)\u001B[38;5;241m.\u001B[39mclick()\n\u001B[1;32m---> 57\u001B[0m \u001B[43mxpath\u001B[49m\u001B[43m(\u001B[49m\u001B[38;5;124;43m\"\u001B[39;49m\u001B[38;5;124;43m//label[@for=\u001B[39;49m\u001B[38;5;124;43m'\u001B[39;49m\u001B[38;5;124;43mexport-account_list\u001B[39;49m\u001B[38;5;124;43m'\u001B[39;49m\u001B[38;5;124;43m]\u001B[39;49m\u001B[38;5;124;43m\"\u001B[39;49m\u001B[43m)\u001B[49m\u001B[38;5;241;43m.\u001B[39;49m\u001B[43mclick\u001B[49m\u001B[43m(\u001B[49m\u001B[43m)\u001B[49m\n\u001B[0;32m     58\u001B[0m xpath(\u001B[38;5;124m\"\u001B[39m\u001B[38;5;124m//input[@placeholder=\u001B[39m\u001B[38;5;124m'\u001B[39m\u001B[38;5;124mВыберите счет(а)\u001B[39m\u001B[38;5;124m'\u001B[39m\u001B[38;5;124m]\u001B[39m\u001B[38;5;124m\"\u001B[39m)\u001B[38;5;241m.\u001B[39mclick()\n\u001B[0;32m     59\u001B[0m xpath(\u001B[38;5;124m\"\u001B[39m\u001B[38;5;124m//li[normalize-space()=\u001B[39m\u001B[38;5;124m'\u001B[39m\u001B[38;5;124m20214000404478157014 (01094)\u001B[39m\u001B[38;5;124m'\u001B[39m\u001B[38;5;124m]\u001B[39m\u001B[38;5;124m\"\u001B[39m)\u001B[38;5;241m.\u001B[39mclick()\n",
      "File \u001B[1;32mC:\\PycharmProjects\\venv\\Lib\\site-packages\\selenium\\webdriver\\remote\\webelement.py:93\u001B[0m, in \u001B[0;36mWebElement.click\u001B[1;34m(self)\u001B[0m\n\u001B[0;32m     91\u001B[0m \u001B[38;5;28;01mdef\u001B[39;00m \u001B[38;5;21mclick\u001B[39m(\u001B[38;5;28mself\u001B[39m) \u001B[38;5;241m-\u001B[39m\u001B[38;5;241m>\u001B[39m \u001B[38;5;28;01mNone\u001B[39;00m:\n\u001B[0;32m     92\u001B[0m \u001B[38;5;250m    \u001B[39m\u001B[38;5;124;03m\"\"\"Clicks the element.\"\"\"\u001B[39;00m\n\u001B[1;32m---> 93\u001B[0m     \u001B[38;5;28;43mself\u001B[39;49m\u001B[38;5;241;43m.\u001B[39;49m\u001B[43m_execute\u001B[49m\u001B[43m(\u001B[49m\u001B[43mCommand\u001B[49m\u001B[38;5;241;43m.\u001B[39;49m\u001B[43mCLICK_ELEMENT\u001B[49m\u001B[43m)\u001B[49m\n",
      "File \u001B[1;32mC:\\PycharmProjects\\venv\\Lib\\site-packages\\selenium\\webdriver\\remote\\webelement.py:403\u001B[0m, in \u001B[0;36mWebElement._execute\u001B[1;34m(self, command, params)\u001B[0m\n\u001B[0;32m    401\u001B[0m     params \u001B[38;5;241m=\u001B[39m {}\n\u001B[0;32m    402\u001B[0m params[\u001B[38;5;124m\"\u001B[39m\u001B[38;5;124mid\u001B[39m\u001B[38;5;124m\"\u001B[39m] \u001B[38;5;241m=\u001B[39m \u001B[38;5;28mself\u001B[39m\u001B[38;5;241m.\u001B[39m_id\n\u001B[1;32m--> 403\u001B[0m \u001B[38;5;28;01mreturn\u001B[39;00m \u001B[38;5;28;43mself\u001B[39;49m\u001B[38;5;241;43m.\u001B[39;49m\u001B[43m_parent\u001B[49m\u001B[38;5;241;43m.\u001B[39;49m\u001B[43mexecute\u001B[49m\u001B[43m(\u001B[49m\u001B[43mcommand\u001B[49m\u001B[43m,\u001B[49m\u001B[43m \u001B[49m\u001B[43mparams\u001B[49m\u001B[43m)\u001B[49m\n",
      "File \u001B[1;32mC:\\PycharmProjects\\venv\\Lib\\site-packages\\selenium\\webdriver\\remote\\webdriver.py:440\u001B[0m, in \u001B[0;36mWebDriver.execute\u001B[1;34m(self, driver_command, params)\u001B[0m\n\u001B[0;32m    438\u001B[0m response \u001B[38;5;241m=\u001B[39m \u001B[38;5;28mself\u001B[39m\u001B[38;5;241m.\u001B[39mcommand_executor\u001B[38;5;241m.\u001B[39mexecute(driver_command, params)\n\u001B[0;32m    439\u001B[0m \u001B[38;5;28;01mif\u001B[39;00m response:\n\u001B[1;32m--> 440\u001B[0m     \u001B[38;5;28;43mself\u001B[39;49m\u001B[38;5;241;43m.\u001B[39;49m\u001B[43merror_handler\u001B[49m\u001B[38;5;241;43m.\u001B[39;49m\u001B[43mcheck_response\u001B[49m\u001B[43m(\u001B[49m\u001B[43mresponse\u001B[49m\u001B[43m)\u001B[49m\n\u001B[0;32m    441\u001B[0m     response[\u001B[38;5;124m\"\u001B[39m\u001B[38;5;124mvalue\u001B[39m\u001B[38;5;124m\"\u001B[39m] \u001B[38;5;241m=\u001B[39m \u001B[38;5;28mself\u001B[39m\u001B[38;5;241m.\u001B[39m_unwrap_value(response\u001B[38;5;241m.\u001B[39mget(\u001B[38;5;124m\"\u001B[39m\u001B[38;5;124mvalue\u001B[39m\u001B[38;5;124m\"\u001B[39m, \u001B[38;5;28;01mNone\u001B[39;00m))\n\u001B[0;32m    442\u001B[0m     \u001B[38;5;28;01mreturn\u001B[39;00m response\n",
      "File \u001B[1;32mC:\\PycharmProjects\\venv\\Lib\\site-packages\\selenium\\webdriver\\remote\\errorhandler.py:245\u001B[0m, in \u001B[0;36mErrorHandler.check_response\u001B[1;34m(self, response)\u001B[0m\n\u001B[0;32m    243\u001B[0m         alert_text \u001B[38;5;241m=\u001B[39m value[\u001B[38;5;124m\"\u001B[39m\u001B[38;5;124malert\u001B[39m\u001B[38;5;124m\"\u001B[39m]\u001B[38;5;241m.\u001B[39mget(\u001B[38;5;124m\"\u001B[39m\u001B[38;5;124mtext\u001B[39m\u001B[38;5;124m\"\u001B[39m)\n\u001B[0;32m    244\u001B[0m     \u001B[38;5;28;01mraise\u001B[39;00m exception_class(message, screen, stacktrace, alert_text)  \u001B[38;5;66;03m# type: ignore[call-arg]  # mypy is not smart enough here\u001B[39;00m\n\u001B[1;32m--> 245\u001B[0m \u001B[38;5;28;01mraise\u001B[39;00m exception_class(message, screen, stacktrace)\n",
      "\u001B[1;31mElementClickInterceptedException\u001B[0m: Message: element click intercepted: Element <label class=\"control-label\" for=\"export-account_list\">...</label> is not clickable at point (930, 203). Other element would receive the click: <th colspan=\"5\" class=\"datepicker-switch\">...</th>\n  (Session info: chrome=111.0.5563.65)\nStacktrace:\nBacktrace:\n\t(No symbol) [0x0111DCE3]\n\t(No symbol) [0x010B39D1]\n\t(No symbol) [0x00FC4DA8]\n\t(No symbol) [0x00FF52EA]\n\t(No symbol) [0x00FF3BBA]\n\t(No symbol) [0x00FF1EFB]\n\t(No symbol) [0x00FF1027]\n\t(No symbol) [0x00FE8D05]\n\t(No symbol) [0x0100AECC]\n\t(No symbol) [0x00FE8726]\n\t(No symbol) [0x0100B224]\n\t(No symbol) [0x0101D57C]\n\t(No symbol) [0x0100ACC6]\n\t(No symbol) [0x00FE6F68]\n\t(No symbol) [0x00FE80CD]\n\tGetHandleVerifier [0x01393832+2506274]\n\tGetHandleVerifier [0x013C9794+2727300]\n\tGetHandleVerifier [0x013CE36C+2746716]\n\tGetHandleVerifier [0x011C6690+617600]\n\t(No symbol) [0x010BC712]\n\t(No symbol) [0x010C1FF8]\n\t(No symbol) [0x010C20DB]\n\t(No symbol) [0x010CC63B]\n\tBaseThreadInitThunk [0x75A6FEF9+25]\n\tRtlGetAppContainerNamedObjectPath [0x77407BBE+286]\n\tRtlGetAppContainerNamedObjectPath [0x77407B8E+238]\n"
     ]
    }
   ],
   "source": [
    "import os\n",
    "import subprocess\n",
    "import time\n",
    "from multiprocessing import Pool\n",
    "import win32com.client\n",
    "from pandas import pandas as pd\n",
    "from pandas import ExcelWriter\n",
    "from pandas.io.excel import *\n",
    "from datetime import datetime, timedelta\n",
    "import pandas\n",
    "from selenium import webdriver\n",
    "from selenium.webdriver.chrome.options import Options\n",
    "from selenium.webdriver.chrome.service import Service\n",
    "from webdriver_manager.chrome import ChromeDriverManager\n",
    "from selenium.webdriver.common.by import By\n",
    "\n",
    "\n",
    "def xpath(x):\n",
    "    return driver.find_element(By.XPATH, x)\n",
    "\n",
    "\n",
    "prefs = {'profile.default_content_settings.popups': 0,\n",
    "         \"download.default_directory\": os.getcwd() + 'D:/SAP',\n",
    "         'directory_upgrade': True}\n",
    "\n",
    "now = (datetime.now() - timedelta(days=1)).strftime(\"%Y-%m-%d\")\n",
    "print(now)\n",
    "\n",
    "options = Options()\n",
    "options.add_experimental_option(\"prefs\", prefs)\n",
    "options.add_argument(\"window-size=1280x800\")\n",
    "options.add_argument(\"--start-maximized\")\n",
    "options.add_argument(\"--disable-blink-features=AutomationControlled\")\n",
    "#options.add_argument(\"--headless\")\n",
    "driver = webdriver.Chrome(service=Service(ChromeDriverManager().install()), options=options)\n",
    "driver.get(url='https://old-ibank.nbu.uz/')\n",
    "driver.implicitly_wait(10)\n",
    "xpath(\"//input[@placeholder='логин']\").clear()\n",
    "xpath(\"//input[@placeholder='логин']\").send_keys(\"akfa2\")\n",
    "xpath(\"//input[@placeholder='пароль']\").clear()\n",
    "xpath(\"//input[@placeholder='пароль']\").send_keys(\"a123456789\")\n",
    "driver.find_element(By.ID, \"loginform-verifycode\").click()\n",
    "while True:\n",
    "    try:\n",
    "        driver.find_element(By.PARTIAL_LINK_TEXT, \"Экспорт\").click()\n",
    "        break\n",
    "    except:\n",
    "        time.sleep(2)\n",
    "\n",
    "driver.find_element(By.ID, \"export-date_from\").clear()\n",
    "driver.find_element(By.ID, \"export-date_from\").send_keys(now)\n",
    "driver.find_element(By.ID, \"export-date_to\").clear()\n",
    "driver.find_element(By.ID, \"export-date_to\").send_keys(now)\n",
    "\n",
    "# driver.find_element(By.ID, \"export-file_format\").click()\n",
    "xpath(\"//option[@value='txt3']\").click()\n",
    "xpath(\"//label[@for='export-account_list']\").click()\n",
    "xpath(\"//input[@placeholder='Выберите счет(а)']\").click()\n",
    "sdasdxpath(\"//li[normalize-space()='20214000404478157014 (01094)']\").click()"
   ]
  },
  {
   "cell_type": "code",
   "execution_count": 32,
   "outputs": [
    {
     "name": "stderr",
     "output_type": "stream",
     "text": [
      "C:\\PycharmProjects\\venv\\Lib\\site-packages\\urllib3\\connectionpool.py:1045: InsecureRequestWarning: Unverified HTTPS request is being made to host 'old-ibank.nbu.uz'. Adding certificate verification is strongly advised. See: https://urllib3.readthedocs.io/en/1.26.x/advanced-usage.html#ssl-warnings\n",
      "  warnings.warn(\n",
      "C:\\PycharmProjects\\venv\\Lib\\site-packages\\urllib3\\connectionpool.py:1045: InsecureRequestWarning: Unverified HTTPS request is being made to host 'old-ibank.nbu.uz'. Adding certificate verification is strongly advised. See: https://urllib3.readthedocs.io/en/1.26.x/advanced-usage.html#ssl-warnings\n",
      "  warnings.warn(\n"
     ]
    }
   ],
   "source": [
    "import requests as r\n",
    "img = r.get(\"https://old-ibank.nbu.uz/\", verify=False)\n",
    "# img_file = open(f'img/11.png', 'wb')"
   ],
   "metadata": {
    "collapsed": false,
    "pycharm": {
     "name": "#%%\n"
    }
   }
  }
 ],
 "metadata": {
  "kernelspec": {
   "display_name": "Python 3",
   "language": "python",
   "name": "python3"
  },
  "language_info": {
   "codemirror_mode": {
    "name": "ipython",
    "version": 2
   },
   "file_extension": ".py",
   "mimetype": "text/x-python",
   "name": "python",
   "nbconvert_exporter": "python",
   "pygments_lexer": "ipython2",
   "version": "2.7.6"
  }
 },
 "nbformat": 4,
 "nbformat_minor": 0
}